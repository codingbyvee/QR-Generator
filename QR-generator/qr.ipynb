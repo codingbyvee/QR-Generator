{
 "cells": [
  {
   "cell_type": "code",
   "execution_count": 3,
   "id": "1d49bfd5",
   "metadata": {},
   "outputs": [
    {
     "name": "stdout",
     "output_type": "stream",
     "text": [
      "Enter the URL to convert to a QR code: www.google.com\n",
      "QR code generated and saved as 'qr_code.png'\n"
     ]
    }
   ],
   "source": [
    "import qrcode\n",
    "\n",
    "# Get the URL input from the user\n",
    "url = input(\"Enter the URL to convert to a QR code: \")\n",
    "\n",
    "# Create a QR code instance\n",
    "qr = qrcode.QRCode(\n",
    "    version=1,  # Adjust version according to your data size\n",
    "    error_correction=qrcode.constants.ERROR_CORRECT_L,\n",
    "    box_size=10,  # Adjust box size as needed\n",
    "    border=4  # Adjust border size as needed\n",
    ")\n",
    "\n",
    "# Add the user-provided URL to the QR code\n",
    "qr.add_data(url)\n",
    "qr.make(fit=True)\n",
    "\n",
    "# Create an image from the QR code\n",
    "img = qr.make_image(fill_color=\"black\", back_color=\"white\")\n",
    "\n",
    "# Save the QR code as an image file (e.g., PNG)\n",
    "img.save(\"qr_code.png\")\n",
    "\n",
    "# Display the QR code using the default image viewer\n",
    "img.show()\n",
    "\n",
    "print(\"QR code generated and saved as 'qr_code.png'\")\n"
   ]
  },
  {
   "cell_type": "code",
   "execution_count": null,
   "id": "0d082d06",
   "metadata": {},
   "outputs": [],
   "source": []
  }
 ],
 "metadata": {
  "kernelspec": {
   "display_name": "Python 3 (ipykernel)",
   "language": "python",
   "name": "python3"
  },
  "language_info": {
   "codemirror_mode": {
    "name": "ipython",
    "version": 3
   },
   "file_extension": ".py",
   "mimetype": "text/x-python",
   "name": "python",
   "nbconvert_exporter": "python",
   "pygments_lexer": "ipython3",
   "version": "3.10.2"
  }
 },
 "nbformat": 4,
 "nbformat_minor": 5
}
